{
 "cells": [
  {
   "cell_type": "code",
   "execution_count": null,
   "id": "b5cd8c8b-41dc-4ece-93df-4bf60b116bfe",
   "metadata": {},
   "outputs": [
    {
     "data": {
      "text/plain": [
       "['.ipynb_checkpoints',\n",
       " 'abbotsford_section1_.csv',\n",
       " 'alberta_section1_.csv',\n",
       " 'barrie_section1_.csv',\n",
       " 'brantford_section1_.csv',\n",
       " 'british columbia_section1_.csv',\n",
       " 'calgary_section1_.csv',\n",
       " 'edmonton_section1_.csv',\n",
       " 'gatineau_section1_.csv',\n",
       " 'greater sudbury_section1_.csv',\n",
       " 'guelph_section1_.csv',\n",
       " 'halifax_section1_.csv',\n",
       " 'hamilton_section1_.csv',\n",
       " 'kingston_section1_.csv',\n",
       " 'manitoba_section1_.csv',\n",
       " 'moncton_section1_.csv',\n",
       " 'montral_section1_.csv',\n",
       " 'new brunswick_section1_.csv',\n",
       " 'nova scotia_section1_.csv',\n",
       " 'oshawa_section1_.csv',\n",
       " 'ottawa_section1_.csv',\n",
       " 'peterborough_section1_.csv',\n",
       " 'prince edward_section1_.csv',\n",
       " 'qubec cma_section1_.csv',\n",
       " 'quebec_section1_.csv',\n",
       " 'saguenay_section1_.csv',\n",
       " 'saint john_section1_.csv',\n",
       " 'saskatchewan_section1_.csv',\n",
       " 'saskatoon_section1_.csv',\n",
       " 'sherbrooke_section1_.csv',\n",
       " 'thunder bay_section1_.csv',\n",
       " 'vancouver_section1_.csv',\n",
       " 'victoria_section1_.csv',\n",
       " 'windsor_section1_.csv',\n",
       " 'winnipeg_section1_.csv']"
      ]
     },
     "execution_count": null,
     "metadata": {},
     "output_type": "execute_result"
    }
   ],
   "source": [
    "import pandas as pd\n",
    "import glob\n",
    "import os\n",
    "import pathlib\n",
    "\n",
    "file_path_dir = \"../../data/raw/housing-supply-and-rental/\"\n",
    "file_path = os.listdir(file_path_dir)\n",
    "file_path"
   ]
  },
  {
   "cell_type": "code",
   "execution_count": null,
   "id": "34eda774-d03f-43b9-ab2c-869c04661b1a",
   "metadata": {},
   "outputs": [],
   "source": [
    "main_df = pd.DataFrame()\n",
    "\n",
    "for file in file_path:\n",
    "    if(os.path.splitext(file)[1] == \".csv\"):\n",
    "        temp = pd.read_csv(str(file_path_dir) + str(file))\n",
    "        main_df = main_df.append(temp, ignore_index=True)\n",
    "main_df.to_csv(\"../../data/processed/main.csv\")"
   ]
  },
  {
   "cell_type": "code",
   "execution_count": null,
   "id": "cd5a385a-87db-4538-8896-af5b1e9eaea8",
   "metadata": {},
   "outputs": [],
   "source": []
  }
 ],
 "metadata": {
  "kernelspec": {
   "display_name": "Python 3 (ipykernel)",
   "language": "python",
   "name": "python3"
  }
 },
 "nbformat": 4,
 "nbformat_minor": 5
}
